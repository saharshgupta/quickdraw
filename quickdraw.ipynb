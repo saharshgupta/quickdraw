{
 "cells": [
  {
   "cell_type": "markdown",
   "metadata": {},
   "source": [
    "## Importing required Libraries"
   ]
  },
  {
   "cell_type": "code",
   "execution_count": 1,
   "metadata": {},
   "outputs": [
    {
     "name": "stderr",
     "output_type": "stream",
     "text": [
      "Using TensorFlow backend.\n"
     ]
    }
   ],
   "source": [
    "import pandas as pd\n",
    "import numpy as np\n",
    "from sklearn.model_selection import train_test_split\n",
    "from sklearn.neighbors import KNeighborsClassifier\n",
    "from sklearn.neural_network import MLPClassifier"
   ]
  },
  {
   "cell_type": "markdown",
   "metadata": {},
   "source": [
    "## Importing data from .npy files\n",
    "Data loaded: Axe, banana, pencil, bench, knife, triangle, skull, line and hexagon"
   ]
  },
  {
   "cell_type": "code",
   "execution_count": 38,
   "metadata": {},
   "outputs": [],
   "source": [
    "axe = np.load(r\"data\\full_numpy_bitmap_axe.npy\")\n",
    "banana = np.load(r\"data\\full_numpy_bitmap_banana.npy\")\n",
    "pencil = np.load(r\"data\\full_numpy_bitmap_pencil.npy\")\n",
    "bench = np.load(r\"data\\full_numpy_bitmap_bench.npy\")\n",
    "knife = np.load(r\"data\\full_numpy_bitmap_knife.npy\")\n",
    "triangle = np.load(r\"data\\full_numpy_bitmap_triangle.npy\")\n",
    "skull = np.load(r\"data\\full_numpy_bitmap_skull.npy\")\n",
    "line = np.load(r\"data\\full_numpy_bitmap_line.npy\")\n",
    "hexagon = np.load(r\"data\\full_numpy_bitmap_hexagon.npy\")"
   ]
  },
  {
   "cell_type": "markdown",
   "metadata": {},
   "source": [
    "**Printing shapes of all the imported data.**"
   ]
  },
  {
   "cell_type": "code",
   "execution_count": 39,
   "metadata": {},
   "outputs": [
    {
     "name": "stdout",
     "output_type": "stream",
     "text": [
      "(124122, 784)\n",
      "(307936, 784)\n",
      "(122001, 784)\n",
      "(128695, 784)\n",
      "(172656, 784)\n",
      "(123170, 784)\n",
      "(126174, 784)\n",
      "(143549, 784)\n",
      "(142435, 784)\n"
     ]
    }
   ],
   "source": [
    "print(axe.shape)\n",
    "print(banana.shape)\n",
    "print(pencil.shape)\n",
    "print(bench.shape)\n",
    "print(knife.shape)\n",
    "print(triangle.shape)\n",
    "print(skull.shape)\n",
    "print(line.shape)\n",
    "print(hexagon.shape)"
   ]
  },
  {
   "cell_type": "markdown",
   "metadata": {},
   "source": [
    "## Creating target labels for the 9 classes\n",
    "- Axe: 0\n",
    "- Banana: 1\n",
    "- Pencil: 2\n",
    "- Bench: 3\n",
    "- Knife: 4\n",
    "- Triangle: 5\n",
    "- Skull: 6\n",
    "- Line: 7\n",
    "- Hexagon: 8"
   ]
  },
  {
   "cell_type": "code",
   "execution_count": 41,
   "metadata": {},
   "outputs": [],
   "source": [
    "label_axe = np.zeros(100000)\n",
    "label_banana = np.ones(100000)\n",
    "label_pencil = 2*np.ones(100000)\n",
    "label_bench = 3*np.ones(100000)\n",
    "label_knife = 4*np.ones(100000)\n",
    "label_triangle = 5*np.ones(100000)\n",
    "label_skull = 6*np.ones(100000)\n",
    "label_line = 7*np.ones(100000)\n",
    "label_hexagon = 8*np.ones(100000)"
   ]
  },
  {
   "cell_type": "markdown",
   "metadata": {},
   "source": [
    "## Concatenating All the labels and Data in X and Y.\n",
    "\n",
    "**X contains 50000 samples from each of the 9 classes.**<br>\n",
    "**Y contains 50000 labels from each of the 9 classes.**<br>\n",
    "**Train test split: 80% train (360000 samples) and 20% test (90000 samples)**<br>"
   ]
  },
  {
   "cell_type": "code",
   "execution_count": 65,
   "metadata": {},
   "outputs": [],
   "source": [
    "X = np.concatenate((axe[:50000,],banana[:50000,],pencil[:50000,],bench[:50000,],knife[:50000,],triangle[:50000,],skull[:50000,],line[:50000,],hexagon[:50000,]))\n",
    "y = np.concatenate((label_axe[:50000],label_banana[:50000],label_pencil[:50000],label_bench[:50000],label_knife[:50000],label_triangle[:50000],label_skull[:50000],label_line[:50000],label_hexagon[:50000]))\n",
    "X_train, X_test, y_train, y_test = train_test_split(X/255.,y,test_size=0.2,random_state=0)"
   ]
  },
  {
   "cell_type": "markdown",
   "metadata": {},
   "source": [
    "## Printing shapes"
   ]
  },
  {
   "cell_type": "code",
   "execution_count": 66,
   "metadata": {},
   "outputs": [
    {
     "name": "stdout",
     "output_type": "stream",
     "text": [
      "X.shape: (450000, 784)\n",
      "y.shape: (450000,)\n",
      "X_train.shape: (360000, 784)\n",
      "y_train.shape: (360000,)\n",
      "X_test.shape: (90000, 784)\n",
      "y_test.shape: (90000,)\n"
     ]
    }
   ],
   "source": [
    "print(\"X.shape: {}\".format(X.shape))\n",
    "print(\"y.shape: {}\".format(y.shape))\n",
    "print(\"X_train.shape: {}\".format(X_train.shape))\n",
    "print(\"y_train.shape: {}\".format(y_train.shape))\n",
    "print(\"X_test.shape: {}\".format(X_test.shape))\n",
    "print(\"y_test.shape: {}\".format(y_test.shape))"
   ]
  },
  {
   "cell_type": "markdown",
   "metadata": {},
   "source": [
    "## KNN Classifier\n",
    "***"
   ]
  },
  {
   "cell_type": "code",
   "execution_count": 67,
   "metadata": {},
   "outputs": [
    {
     "data": {
      "text/plain": [
       "KNeighborsClassifier(algorithm='auto', leaf_size=30, metric='minkowski',\n",
       "           metric_params=None, n_jobs=-1, n_neighbors=5, p=2,\n",
       "           weights='uniform')"
      ]
     },
     "execution_count": 67,
     "metadata": {},
     "output_type": "execute_result"
    }
   ],
   "source": [
    "knn = KNeighborsClassifier(n_jobs = -1, n_neighbors=5)\n",
    "knn.fit(X_train, y_train)"
   ]
  },
  {
   "cell_type": "markdown",
   "metadata": {},
   "source": [
    "**Predicting on X_test using knn, and caculating accuracy**"
   ]
  },
  {
   "cell_type": "code",
   "execution_count": 68,
   "metadata": {},
   "outputs": [
    {
     "name": "stdout",
     "output_type": "stream",
     "text": [
      "KNN accuracy:  0.8959111111111111\n"
     ]
    }
   ],
   "source": [
    "y_pred = knn.predict(X_test)\n",
    "acc = np.mean(y_pred == y_test)\n",
    "print ('KNN accuracy: ',acc)"
   ]
  },
  {
   "cell_type": "markdown",
   "metadata": {},
   "source": [
    "## MLP Classifier \n",
    "***"
   ]
  },
  {
   "cell_type": "code",
   "execution_count": 69,
   "metadata": {},
   "outputs": [
    {
     "data": {
      "text/plain": [
       "MLPClassifier(activation='relu', alpha=0.0001, batch_size='auto', beta_1=0.9,\n",
       "       beta_2=0.999, early_stopping=False, epsilon=1e-08,\n",
       "       hidden_layer_sizes=(100,), learning_rate='constant',\n",
       "       learning_rate_init=0.001, max_iter=200, momentum=0.9,\n",
       "       n_iter_no_change=10, nesterovs_momentum=True, power_t=0.5,\n",
       "       random_state=0, shuffle=True, solver='adam', tol=0.0001,\n",
       "       validation_fraction=0.1, verbose=False, warm_start=False)"
      ]
     },
     "execution_count": 69,
     "metadata": {},
     "output_type": "execute_result"
    }
   ],
   "source": [
    "mlp = MLPClassifier(random_state=0)\n",
    "mlp.fit(X_train[:5000,], y_train[:5000])"
   ]
  },
  {
   "cell_type": "markdown",
   "metadata": {},
   "source": [
    "**Predicting on X_test using mlp, and calculating accuracy.**"
   ]
  },
  {
   "cell_type": "code",
   "execution_count": 70,
   "metadata": {},
   "outputs": [
    {
     "name": "stdout",
     "output_type": "stream",
     "text": [
      "MLP accuracy:  0.824\n"
     ]
    }
   ],
   "source": [
    "y_pred_mlp = mlp.predict(X_test[:5000,])\n",
    "acc_mlp = np.mean(y_pred_mlp == y_test[:5000])\n",
    "print ('MLP accuracy: ',acc_mlp)"
   ]
  }
 ],
 "metadata": {
  "kernelspec": {
   "display_name": "Python 3",
   "language": "python",
   "name": "python3"
  },
  "language_info": {
   "codemirror_mode": {
    "name": "ipython",
    "version": 3
   },
   "file_extension": ".py",
   "mimetype": "text/x-python",
   "name": "python",
   "nbconvert_exporter": "python",
   "pygments_lexer": "ipython3",
   "version": "3.6.8"
  }
 },
 "nbformat": 4,
 "nbformat_minor": 2
}
